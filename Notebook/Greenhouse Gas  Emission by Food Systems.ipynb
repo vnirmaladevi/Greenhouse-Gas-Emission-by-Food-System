{
 "cells": [
  {
   "cell_type": "code",
   "execution_count": null,
   "id": "9f23d119",
   "metadata": {},
   "outputs": [],
   "source": [
    "import pandas as pd\n",
    "import re \n",
    "import matplotlib.pyplot as plt \n",
    "import numpy as np"
   ]
  },
  {
   "cell_type": "markdown",
   "id": "9161eca9",
   "metadata": {},
   "source": [
    "## Importing Code Files"
   ]
  },
  {
   "cell_type": "code",
   "execution_count": null,
   "id": "56befe65",
   "metadata": {},
   "outputs": [],
   "source": [
    "FAO_Codes=pd.read_csv('../Data/Food/FAO_codes_latest.csv')\n",
    "FAO_Codes=FAO_Codes.drop_duplicates()\n",
    "FAO_Codes=FAO_Codes.drop_duplicates(subset=['Country Code','ISO3 Code'])\n",
    "FAO_Codes=FAO_Codes.loc[~FAO_Codes['ISO3 Code'].isin(['X06','X01','X21'])]\n",
    "FAO_Codes = FAO_Codes.fillna(0)\n",
    "FAO_Codes['M49 Code']=FAO_Codes['M49 Code'].astype(int)\n",
    "FAO_Codes"
   ]
  },
  {
   "cell_type": "code",
   "execution_count": null,
   "id": "57f20178",
   "metadata": {
    "scrolled": true
   },
   "outputs": [],
   "source": [
    "Region=pd.read_excel('../Data/Food/Food  Waste Data Set - Copy.xlsx',sheet_name=2)\n",
    "Region"
   ]
  },
  {
   "cell_type": "markdown",
   "id": "5af0ecad",
   "metadata": {},
   "source": [
    "## Processing Files for Emission due to Solid Food waste"
   ]
  },
  {
   "cell_type": "code",
   "execution_count": null,
   "id": "6b102486",
   "metadata": {},
   "outputs": [],
   "source": [
    "CO2_Total_waste=pd.read_csv('../Data/Food/Emissions_Agriculture_Waste_Disposal_E_All_Data_NOFLAG.csv',encoding=\"ISO-8859-1\",nrows=5310)\n",
    "CO2_Total_waste"
   ]
  },
  {
   "cell_type": "code",
   "execution_count": null,
   "id": "b7783c6e",
   "metadata": {},
   "outputs": [],
   "source": [
    "CO2_Total_waste=CO2_Total_waste.groupby(['Area Code','Area','Item','Unit']).max().reset_index()"
   ]
  },
  {
   "cell_type": "code",
   "execution_count": null,
   "id": "e732a2bd",
   "metadata": {},
   "outputs": [],
   "source": [
    "CO2_Total_waste"
   ]
  },
  {
   "cell_type": "code",
   "execution_count": null,
   "id": "bf7fc7bb",
   "metadata": {},
   "outputs": [],
   "source": [
    "Solid_waste=CO2_Total_waste.loc[CO2_Total_waste['Item']=='Solid food waste'].reset_index(drop=True)\n",
    "Solid_waste"
   ]
  },
  {
   "cell_type": "code",
   "execution_count": null,
   "id": "160c42c8",
   "metadata": {},
   "outputs": [],
   "source": [
    "Solid_waste"
   ]
  },
  {
   "cell_type": "code",
   "execution_count": null,
   "id": "226e8273",
   "metadata": {},
   "outputs": [],
   "source": [
    "Solid_waste_Co2=Solid_waste.merge(FAO_Codes[['Country Code','ISO3 Code']],how='inner',left_on='Area Code',right_on='Country Code').merge(Region[['Code','Region','Income group']],how='inner',left_on='ISO3 Code',right_on='Code')\n"
   ]
  },
  {
   "cell_type": "code",
   "execution_count": null,
   "id": "4e564447",
   "metadata": {
    "scrolled": true
   },
   "outputs": [],
   "source": [
    "Solid_waste_Co2"
   ]
  },
  {
   "cell_type": "code",
   "execution_count": null,
   "id": "dafcf87b",
   "metadata": {
    "scrolled": true
   },
   "outputs": [],
   "source": [
    "Solid_waste_Income_group=Solid_waste_Co2.groupby(['Income group'])['Y2019'].sum().reset_index()\n",
    "Solid_waste_Income_group['Percentage'] = round(Solid_waste_Income_group['Y2019'] / \n",
    "                  Solid_waste_Income_group['Y2019'].sum(),2)*100\n",
    "#Solid_waste_Income_group.drop(Solid_waste_Income_group.index, inplace=True)\n",
    "Solid_waste_Income_group"
   ]
  },
  {
   "cell_type": "markdown",
   "id": "7e4cd6aa",
   "metadata": {},
   "source": [
    "## Processing files for Solid Food waste  from different sectors"
   ]
  },
  {
   "cell_type": "code",
   "execution_count": null,
   "id": "2a94037b",
   "metadata": {},
   "outputs": [],
   "source": [
    "house_waste=pd.read_excel('../Data/Food/FWD.xlsx',sheet_name=4,header=1,skipfooter=1,dtype={'M49 code': np.int32})\n",
    "Food_Service_waste=pd.read_excel('../Data/Food/FWD.xlsx',sheet_name=5,header=1,skipfooter=1,dtype={'M49 code': np.int32})\n",
    "Retail_waste=pd.read_excel('../Data/Food/FWD.xlsx',sheet_name=6,header=1,skipfooter=3,dtype={'M49 code': np.int32})"
   ]
  },
  {
   "cell_type": "code",
   "execution_count": null,
   "id": "e69cf4f5",
   "metadata": {},
   "outputs": [],
   "source": [
    "house_waste=house_waste.loc[house_waste['Confidence in estimate'].isin(['High confidence','Medium confidence'])]\n",
    "Food_Service_waste=Food_Service_waste.loc[Food_Service_waste['Confidence in estimate'].isin(['High Confidence','Medium Confidence'])]\n",
    "Retail_waste=Retail_waste.loc[Retail_waste['Confidence in estimate'].isin(['High Confidence','Medium Confidence'])]"
   ]
  },
  {
   "cell_type": "code",
   "execution_count": null,
   "id": "309b117f",
   "metadata": {},
   "outputs": [],
   "source": [
    "house_waste=house_waste.merge(FAO_Codes[['M49 Code','ISO3 Code']],how='left',left_on='M49 code',right_on='M49 Code').merge(Region[['Code','Region','Income group']],how='inner',left_on='ISO3 Code',right_on='Code')"
   ]
  },
  {
   "cell_type": "code",
   "execution_count": null,
   "id": "603d062f",
   "metadata": {},
   "outputs": [],
   "source": [
    "house_waste.head(1)"
   ]
  },
  {
   "cell_type": "code",
   "execution_count": null,
   "id": "2e623a33",
   "metadata": {},
   "outputs": [],
   "source": [
    "house_waste=house_waste[['Code','Region_y','Income group','Country','Household estimate (kg/capita/year)']]"
   ]
  },
  {
   "cell_type": "code",
   "execution_count": null,
   "id": "a07a92a6",
   "metadata": {},
   "outputs": [],
   "source": [
    "house_waste=house_waste.rename(columns={'Household estimate (kg/capita/year)':'Value'})\n",
    "house_waste['Value']=house_waste['Value'].astype(float)\n",
    "house_waste['Category']='House_waste'\n",
    "house_waste_Income_group=house_waste.groupby(['Region_y','Income group','Category','Country'])['Value'].sum().reset_index()\n",
    "#house_waste_Income_group['Percentage'] = round(100 * house_waste_Income_group['Value'] / house_waste_Income_group.groupby('Income group')['Value'].transform('sum'),2)\n",
    "house_waste_Income_group"
   ]
  },
  {
   "cell_type": "code",
   "execution_count": null,
   "id": "3aa9f491",
   "metadata": {},
   "outputs": [],
   "source": [
    "Food_Service_waste=Food_Service_waste.merge(FAO_Codes[['M49 Code','ISO3 Code']],how='left',left_on='M49 code',right_on='M49 Code').merge(Region[['Code','Region','Income group']],how='inner',left_on='ISO3 Code',right_on='Code')\n",
    "Food_Service_waste.head(1)"
   ]
  },
  {
   "cell_type": "code",
   "execution_count": null,
   "id": "bd8c4074",
   "metadata": {},
   "outputs": [],
   "source": [
    "Food_Service_waste=Food_Service_waste[['Code','Region_y','Income group','Country','Food service estimate (kg/capita/year)']]\n",
    "Food_Service_waste=Food_Service_waste.rename(columns={'Food service estimate (kg/capita/year)':'Value'})\n",
    "Food_Service_waste['Value']=Food_Service_waste['Value'].astype(float)\n",
    "Food_Service_waste['Category']='Food_Service_waste'\n",
    "Food_Service_waste_Income_group=Food_Service_waste.groupby(['Region_y','Income group','Category','Country'])['Value'].sum().reset_index()\n",
    "#Food_Service_waste_Income_group['Percentage'] = round(100 * Food_Service_waste_Income_group['Value'] / Food_Service_waste_Income_group.groupby('Income group')['Value'].transform('sum'),2)\n",
    "Food_Service_waste_Income_group\n",
    "\n"
   ]
  },
  {
   "cell_type": "code",
   "execution_count": null,
   "id": "4744ff60",
   "metadata": {
    "scrolled": true
   },
   "outputs": [],
   "source": [
    "Retail_waste=Retail_waste.merge(FAO_Codes[['M49 Code','ISO3 Code']],how='left',left_on='M49 code',right_on='M49 Code').merge(Region[['Code','Region','Income group']],how='inner',left_on='ISO3 Code',right_on='Code')\n",
    "Retail_waste"
   ]
  },
  {
   "cell_type": "code",
   "execution_count": null,
   "id": "309b18cb",
   "metadata": {
    "scrolled": true
   },
   "outputs": [],
   "source": [
    "Retail_waste=Retail_waste[['Code','Region_y','Income group','Country','Retail estimate (kg/capita/year)']]\n",
    "Retail_waste=Retail_waste.rename(columns={'Retail estimate (kg/capita/year)':'Value'})\n",
    "Retail_waste['Value']=Retail_waste['Value'].astype(float)\n",
    "Retail_waste['Category']='Retail_waste'\n",
    "Retail_waste_Income_group=Retail_waste.groupby(['Region_y','Income group','Category','Country'])['Value'].sum().reset_index()\n",
    "#Retail_waste_Income_group['Percentage'] = round(100 * Retail_waste_Income_group['Value'] / Retail_waste_Income_group.groupby('Income group')['Value'].transform('sum'),2)\n",
    "Retail_waste_Income_group"
   ]
  },
  {
   "cell_type": "code",
   "execution_count": null,
   "id": "3e7bcde4",
   "metadata": {},
   "outputs": [],
   "source": [
    "Waste=pd.concat([house_waste_Income_group,Food_Service_waste_Income_group,Retail_waste_Income_group])"
   ]
  },
  {
   "cell_type": "code",
   "execution_count": null,
   "id": "d195dcfc",
   "metadata": {},
   "outputs": [],
   "source": [
    "Waste['Percentage'] = round(100 * Waste['Value'] / Waste.groupby('Income group')['Value'].transform('sum'),2)\n",
    "Waste"
   ]
  },
  {
   "cell_type": "code",
   "execution_count": null,
   "id": "722af595",
   "metadata": {},
   "outputs": [],
   "source": [
    "Waste.loc[Waste['Income group']=='High income']"
   ]
  },
  {
   "cell_type": "code",
   "execution_count": null,
   "id": "a4a485b7",
   "metadata": {},
   "outputs": [],
   "source": [
    "Waste_Category=Waste.groupby(['Income group','Category'])['Value'].sum().reset_index()\n",
    "Waste_Category['Percentage'] = round(100 * Waste_Category['Value'] / Waste_Category.groupby('Income group')['Value'].transform('sum'),2)\n",
    "\n",
    "Waste_Category\n",
    "#Waste_Category.drop(Waste_Category.index, inplace=True)\n"
   ]
  },
  {
   "cell_type": "markdown",
   "id": "24714b0a",
   "metadata": {},
   "source": [
    "## Processing files to calculate Emission by Food Stages"
   ]
  },
  {
   "cell_type": "code",
   "execution_count": null,
   "id": "b3b77371",
   "metadata": {},
   "outputs": [],
   "source": [
    "Emmissions=pd.read_csv('../Data/Food/Emissions_Totals_E_All_Data_NOFLAG.csv',encoding=\"ISO-8859-1\")\n",
    "Emmissions"
   ]
  },
  {
   "cell_type": "code",
   "execution_count": null,
   "id": "cd9d54ba",
   "metadata": {},
   "outputs": [],
   "source": [
    "Farm_gate_Emmissions=Emmissions.groupby(['Area Code','Area','Item','Unit']).sum().reset_index()"
   ]
  },
  {
   "cell_type": "code",
   "execution_count": null,
   "id": "090c36d5",
   "metadata": {},
   "outputs": [],
   "source": [
    "Farm_gate_Emmissions.Unit.unique()"
   ]
  },
  {
   "cell_type": "code",
   "execution_count": null,
   "id": "530cab84",
   "metadata": {},
   "outputs": [],
   "source": [
    "Farm_gate_Emmissions"
   ]
  },
  {
   "cell_type": "code",
   "execution_count": null,
   "id": "8d5ce919",
   "metadata": {},
   "outputs": [],
   "source": [
    "Farm_gate_Emmissions['Item'].unique()"
   ]
  },
  {
   "cell_type": "code",
   "execution_count": null,
   "id": "ef1c1271",
   "metadata": {},
   "outputs": [],
   "source": [
    "Farm_gate_Emmissions=Farm_gate_Emmissions.loc[Farm_gate_Emmissions['Item'].isin(['Burning - Crop residues','Crop Residues',\n",
    "                                                            \n",
    "                                                            'Enteric Fermentation',\n",
    "                                                            'Manure Management',\n",
    "                                                            'Manure applied to Soils',\n",
    "                                                            'Manure left on Pasture',\n",
    "                                                            'On-farm energy use',\n",
    "                                                            'Synthetic Fertilizers',\n",
    "                                                            'Rice Cultivation'\n",
    "                                                           ])]"
   ]
  },
  {
   "cell_type": "code",
   "execution_count": null,
   "id": "577360bd",
   "metadata": {},
   "outputs": [],
   "source": [
    "Farm_gate_Emmissions.tail(100)"
   ]
  },
  {
   "cell_type": "code",
   "execution_count": null,
   "id": "154f5b44",
   "metadata": {},
   "outputs": [],
   "source": [
    "Farm_unwanted=Farm_gate_Emmissions.loc[Farm_gate_Emmissions['Area Code'].astype(str).str.len() > 3]"
   ]
  },
  {
   "cell_type": "code",
   "execution_count": null,
   "id": "858bd7a8",
   "metadata": {},
   "outputs": [],
   "source": [
    "Farm_unwanted"
   ]
  },
  {
   "cell_type": "code",
   "execution_count": null,
   "id": "42c00e51",
   "metadata": {},
   "outputs": [],
   "source": [
    "Farm_gate_Emmissions=Farm_gate_Emmissions.drop(Farm_gate_Emmissions.loc[5199:6111].index,axis=0)"
   ]
  },
  {
   "cell_type": "code",
   "execution_count": null,
   "id": "69ebc3c5",
   "metadata": {
    "scrolled": true
   },
   "outputs": [],
   "source": [
    "Farm_gate_Emmissions"
   ]
  },
  {
   "cell_type": "code",
   "execution_count": null,
   "id": "97985d97",
   "metadata": {},
   "outputs": [],
   "source": [
    "Land_Use_Emmissions=Emmissions.loc[Emmissions['Item'].isin(['Land Use change','Emissions on agricultural land','Drained organic soils'])]"
   ]
  },
  {
   "cell_type": "code",
   "execution_count": null,
   "id": "764dca40",
   "metadata": {
    "scrolled": true
   },
   "outputs": [],
   "source": [
    "Land_Use_Emmissions.loc[Land_Use_Emmissions['Area Code'].astype(str).str.len() > 3]"
   ]
  },
  {
   "cell_type": "code",
   "execution_count": null,
   "id": "da87b01d",
   "metadata": {},
   "outputs": [],
   "source": [
    "Land_Use_Emmissions['Item'].unique()"
   ]
  },
  {
   "cell_type": "code",
   "execution_count": null,
   "id": "862dcd2e",
   "metadata": {},
   "outputs": [],
   "source": [
    "Land_Use_Emmissions=Land_Use_Emmissions.drop(Land_Use_Emmissions.loc[31249:35756].index,axis=0)"
   ]
  },
  {
   "cell_type": "code",
   "execution_count": null,
   "id": "bc723e0c",
   "metadata": {},
   "outputs": [],
   "source": [
    "Transport=pd.read_csv('../Data/Food/Environment_Transport_E_All_Data_NOFLAG.csv',encoding=\"ISO-8859-1\")\n"
   ]
  },
  {
   "cell_type": "code",
   "execution_count": null,
   "id": "678cc197",
   "metadata": {},
   "outputs": [],
   "source": [
    "Transport=Transport.groupby(['Area Code','Area','Item','Unit']).sum().reset_index()\n",
    "Transport"
   ]
  },
  {
   "cell_type": "code",
   "execution_count": null,
   "id": "fb9cecbc",
   "metadata": {
    "scrolled": true
   },
   "outputs": [],
   "source": [
    "Transport.loc[Transport['Area Code'].astype(str).str.len() > 3]"
   ]
  },
  {
   "cell_type": "code",
   "execution_count": null,
   "id": "5ab3ab90",
   "metadata": {},
   "outputs": [],
   "source": [
    "Transport.drop(Transport.index[5000:5874], inplace=True)"
   ]
  },
  {
   "cell_type": "code",
   "execution_count": null,
   "id": "9c7fda4e",
   "metadata": {},
   "outputs": [],
   "source": [
    "Transport"
   ]
  },
  {
   "cell_type": "code",
   "execution_count": null,
   "id": "babaf499",
   "metadata": {},
   "outputs": [],
   "source": [
    "Farm_gate_Emmissions=Farm_gate_Emmissions.merge(FAO_Codes[['Country Code','ISO3 Code']],how='inner',left_on='Area Code',right_on='Country Code').merge(Region[['Code','Region','Income group']],how='inner',left_on='ISO3 Code',right_on='Code')"
   ]
  },
  {
   "cell_type": "code",
   "execution_count": null,
   "id": "924d77a0",
   "metadata": {},
   "outputs": [],
   "source": [
    "Farm_gate_Emmissions.dtypes"
   ]
  },
  {
   "cell_type": "code",
   "execution_count": null,
   "id": "a01b0c9b",
   "metadata": {},
   "outputs": [],
   "source": [
    "Farm_gate_Emmissions.head()"
   ]
  },
  {
   "cell_type": "code",
   "execution_count": null,
   "id": "bcb220ad",
   "metadata": {},
   "outputs": [],
   "source": [
    "Land_Use_Emmissions=Land_Use_Emmissions.merge(FAO_Codes[['Country Code','ISO3 Code']],how='inner',left_on='Area Code',right_on='Country Code').merge(Region[['Code','Region','Income group']],how='inner',left_on='ISO3 Code',right_on='Code')"
   ]
  },
  {
   "cell_type": "code",
   "execution_count": null,
   "id": "960342bd",
   "metadata": {},
   "outputs": [],
   "source": [
    "Farm_gate_Emmissions.to_csv('../Data/Food/Tableau/Farm_gate_Emmissions.csv')"
   ]
  },
  {
   "cell_type": "code",
   "execution_count": null,
   "id": "ee36aab4",
   "metadata": {},
   "outputs": [],
   "source": [
    "Land_Use_Emmissions.to_csv('../Data/Food/Tableau/Land_Use_Emmissions.csv')"
   ]
  },
  {
   "cell_type": "code",
   "execution_count": null,
   "id": "d3943f99",
   "metadata": {},
   "outputs": [],
   "source": [
    "Transport=Transport.merge(FAO_Codes[['Country Code','ISO3 Code']],how='inner',left_on='Area Code',right_on='Country Code').merge(Region[['Code','Region','Income group']],how='inner',left_on='ISO3 Code',right_on='Code')"
   ]
  },
  {
   "cell_type": "code",
   "execution_count": null,
   "id": "4da7e1ca",
   "metadata": {},
   "outputs": [],
   "source": [
    "\n",
    "CO2_Total_waste=CO2_Total_waste.merge(FAO_Codes[['Country Code','ISO3 Code']],how='inner',left_on='Area Code',right_on='Country Code').merge(Region[['Code','Region','Income group']],how='inner',left_on='ISO3 Code',right_on='Code')"
   ]
  },
  {
   "cell_type": "code",
   "execution_count": null,
   "id": "ee6a0b5a",
   "metadata": {},
   "outputs": [],
   "source": [
    "Transport.to_csv('../Data/Food/Tableau/Transport.csv')"
   ]
  },
  {
   "cell_type": "code",
   "execution_count": null,
   "id": "826bccc7",
   "metadata": {},
   "outputs": [],
   "source": [
    "CO2_Total_waste.to_csv('../Data/Food/Tableau/CO2_Total_waste.csv')"
   ]
  },
  {
   "cell_type": "code",
   "execution_count": null,
   "id": "0fc13f9c",
   "metadata": {},
   "outputs": [],
   "source": [
    "Transport.head(1)"
   ]
  },
  {
   "cell_type": "code",
   "execution_count": null,
   "id": "339f5e62",
   "metadata": {},
   "outputs": [],
   "source": [
    "Farm_gate_Emmissions.dtypes"
   ]
  },
  {
   "cell_type": "code",
   "execution_count": null,
   "id": "4e3cf583",
   "metadata": {},
   "outputs": [],
   "source": [
    "Farm=Farm_gate_Emmissions.groupby(['Region','Area','Item','Income group','Unit','Area Code'])['Y2019'].mean().reset_index()"
   ]
  },
  {
   "cell_type": "code",
   "execution_count": null,
   "id": "9b9efd46",
   "metadata": {},
   "outputs": [],
   "source": [
    "Farm['Category']='Agriculture'"
   ]
  },
  {
   "cell_type": "code",
   "execution_count": null,
   "id": "a2150358",
   "metadata": {},
   "outputs": [],
   "source": [
    "Land=Land_Use_Emmissions.groupby(['Region','Area','Item','Income group','Unit','Area Code'])['Y2019'].mean().reset_index()"
   ]
  },
  {
   "cell_type": "code",
   "execution_count": null,
   "id": "b92fcee7",
   "metadata": {},
   "outputs": [],
   "source": [
    "Land['Category']='Land_Use_Change'"
   ]
  },
  {
   "cell_type": "code",
   "execution_count": null,
   "id": "7ad1374c",
   "metadata": {},
   "outputs": [],
   "source": [
    "agri_transport=Transport.groupby(['Region','Area','Item','Income group','Unit','Area Code'])['Y2019'].mean().reset_index()"
   ]
  },
  {
   "cell_type": "code",
   "execution_count": null,
   "id": "428cf0bc",
   "metadata": {},
   "outputs": [],
   "source": [
    "agri_transport['Category']='Transport'"
   ]
  },
  {
   "cell_type": "code",
   "execution_count": null,
   "id": "8980f02c",
   "metadata": {},
   "outputs": [],
   "source": [
    "agri_Co2_waste=CO2_Total_waste.groupby(['Region','Area','Item','Income group','Unit','Area Code'])['Y2019'].mean().reset_index()"
   ]
  },
  {
   "cell_type": "code",
   "execution_count": null,
   "id": "42f3eae8",
   "metadata": {},
   "outputs": [],
   "source": [
    "agri_Co2_waste['Category']='Food_Waste'"
   ]
  },
  {
   "cell_type": "code",
   "execution_count": null,
   "id": "af7c032d",
   "metadata": {},
   "outputs": [],
   "source": [
    "agri_Co2_waste['Item'].unique()"
   ]
  },
  {
   "cell_type": "code",
   "execution_count": null,
   "id": "f9489fd5",
   "metadata": {},
   "outputs": [],
   "source": [
    "agri_Co2_waste=agri_Co2_waste.loc[agri_Co2_waste['Item']!='Total  waste from food systems']"
   ]
  },
  {
   "cell_type": "code",
   "execution_count": null,
   "id": "3110f275",
   "metadata": {},
   "outputs": [],
   "source": [
    "type(Land)"
   ]
  },
  {
   "cell_type": "code",
   "execution_count": null,
   "id": "7349fffd",
   "metadata": {},
   "outputs": [],
   "source": [
    "Total_Agri_Emmision=pd.concat([Farm,Land,agri_transport,agri_Co2_waste])"
   ]
  },
  {
   "cell_type": "code",
   "execution_count": null,
   "id": "4e737d0b",
   "metadata": {},
   "outputs": [],
   "source": [
    "Item_Area_Region=Total_Agri_Emmision.groupby(['Region','Area','Category','Item'])['Y2019'].sum().reset_index()\n",
    "Item_Area_Region['Percentage']= round(100 * Item_Area_Region['Y2019'] / Item_Area_Region.groupby('Area')['Y2019'].transform('sum'),2)\n",
    "Item_Area_Region"
   ]
  },
  {
   "cell_type": "code",
   "execution_count": null,
   "id": "8aec4e74",
   "metadata": {
    "scrolled": true
   },
   "outputs": [],
   "source": [
    "Item_Area_Region.loc[Item_Area_Region['Area']=='Zimbabwe']"
   ]
  },
  {
   "cell_type": "code",
   "execution_count": null,
   "id": "d131405f",
   "metadata": {},
   "outputs": [],
   "source": [
    "Area_Category_Region=Total_Agri_Emmision.groupby(['Region','Category','Area'])['Y2019'].sum().reset_index()\n",
    "Area_Category_Region['Percentage'] = round(100 * Area_Category_Region['Y2019'] / Area_Category_Region.groupby('Category')['Y2019'].transform('sum'),2)\n",
    "Area_Category_Region"
   ]
  },
  {
   "cell_type": "code",
   "execution_count": null,
   "id": "5efbfcb0",
   "metadata": {},
   "outputs": [],
   "source": [
    "Item_Category_Region=Total_Agri_Emmision.groupby(['Region','Category','Item'])['Y2019'].sum().reset_index()\n",
    "Item_Category_Region['Percentage'] = round(100 * Item_Category_Region['Y2019'] / Item_Category_Region.groupby('Category')['Y2019'].transform('sum'),2)\n",
    "Item_Category_Region"
   ]
  },
  {
   "cell_type": "code",
   "execution_count": null,
   "id": "07b902b9",
   "metadata": {},
   "outputs": [],
   "source": [
    "Item_Category_Region.to_csv('../Data/Food/Tableau/Item_Category_Region.csv')"
   ]
  },
  {
   "cell_type": "code",
   "execution_count": null,
   "id": "a004bf8f",
   "metadata": {},
   "outputs": [],
   "source": [
    "Stage=Total_Agri_Emmision.groupby('Category')['Y2019'].mean().reset_index()\n",
    "Stage"
   ]
  },
  {
   "cell_type": "code",
   "execution_count": null,
   "id": "3806663a",
   "metadata": {},
   "outputs": [],
   "source": [
    "Stage.to_csv('../Data/Food/Tableau/Stage.csv')"
   ]
  },
  {
   "cell_type": "code",
   "execution_count": null,
   "id": "754156bd",
   "metadata": {
    "scrolled": true
   },
   "outputs": [],
   "source": [
    "Food_Emission_Region=Total_Agri_Emmision.groupby('Region')['Y2019'].sum().reset_index()\n",
    "Food_Emission_Region['Percentage']=round(Food_Emission_Region['Y2019'] / \n",
    "                  Food_Emission_Region['Y2019'].sum(),2)*100\n",
    "Food_Emission_Region"
   ]
  },
  {
   "cell_type": "code",
   "execution_count": null,
   "id": "60572c4f",
   "metadata": {
    "scrolled": true
   },
   "outputs": [],
   "source": [
    "region_catgry_emission=Total_Agri_Emmision.groupby(['Region','Category'])['Y2019'].mean().reset_index()\n",
    "\n",
    "\n",
    "region_catgry_emission['Percentage'] = round(100 * region_catgry_emission['Y2019'] / region_catgry_emission.groupby('Region')['Y2019'].transform('sum'),2)\n",
    "region_catgry_emission"
   ]
  },
  {
   "cell_type": "markdown",
   "id": "ae4789dc",
   "metadata": {},
   "source": [
    "## Processing files for Food Production"
   ]
  },
  {
   "cell_type": "code",
   "execution_count": null,
   "id": "87ede0fe",
   "metadata": {},
   "outputs": [],
   "source": [
    "Food_production=pd.read_csv('../Data/Food/FAO_food_production.csv')\n",
    "Food_production"
   ]
  },
  {
   "cell_type": "code",
   "execution_count": null,
   "id": "7cdf98d1",
   "metadata": {},
   "outputs": [],
   "source": [
    "Food_production=Food_production.merge(FAO_Codes[['Country Code','ISO3 Code']],how='inner',left_on='Area Code (FAO)',right_on='Country Code').merge(Region[['Code','Region','Income group']],how='inner',left_on='ISO3 Code',right_on='Code')\n"
   ]
  },
  {
   "cell_type": "code",
   "execution_count": null,
   "id": "8bd46248",
   "metadata": {},
   "outputs": [],
   "source": [
    "Food_production"
   ]
  },
  {
   "cell_type": "code",
   "execution_count": null,
   "id": "44636854",
   "metadata": {},
   "outputs": [],
   "source": [
    "Food_production['Region'].unique()"
   ]
  },
  {
   "cell_type": "code",
   "execution_count": null,
   "id": "e7908ce9",
   "metadata": {
    "scrolled": true
   },
   "outputs": [],
   "source": [
    "Food_prod_Region=Food_production.groupby('Region')['Value'].sum().reset_index()\n",
    "Food_prod_Region['Percentage']=round(Food_prod_Region['Value'] / \n",
    "                  Food_prod_Region['Value'].sum(),2)*100\n",
    "Food_prod_Region"
   ]
  },
  {
   "cell_type": "markdown",
   "id": "1e4dcb7b",
   "metadata": {},
   "source": [
    "## Processing files for undernourished"
   ]
  },
  {
   "cell_type": "code",
   "execution_count": null,
   "id": "5f8e8c8a",
   "metadata": {},
   "outputs": [],
   "source": [
    "undernourished=pd.read_csv('../Data/Food/FAOSTAT_undernourished.csv')"
   ]
  },
  {
   "cell_type": "code",
   "execution_count": null,
   "id": "5c9b9055",
   "metadata": {},
   "outputs": [],
   "source": [
    "undernourished['Year'].unique()"
   ]
  },
  {
   "cell_type": "code",
   "execution_count": null,
   "id": "c764dbf3",
   "metadata": {},
   "outputs": [],
   "source": [
    "undernourished.loc[undernourished['Area Code'].astype(str).str.len() > 3]\n"
   ]
  },
  {
   "cell_type": "code",
   "execution_count": null,
   "id": "f033d189",
   "metadata": {},
   "outputs": [],
   "source": [
    "undernourished.drop(undernourished.index[3876:5675], inplace=True)"
   ]
  },
  {
   "cell_type": "code",
   "execution_count": null,
   "id": "6e3447d3",
   "metadata": {},
   "outputs": [],
   "source": [
    "undernourished=undernourished.merge(FAO_Codes[['Country Code','ISO3 Code']],how='inner',left_on='Area Code',right_on='Country Code').merge(Region[['Code','Region','Income group']],how='inner',left_on='ISO3 Code',right_on='Code')\n"
   ]
  },
  {
   "cell_type": "code",
   "execution_count": null,
   "id": "73fa2c24",
   "metadata": {},
   "outputs": [],
   "source": [
    "undernourished=undernourished.loc[undernourished['Year']=='2018-2020']"
   ]
  },
  {
   "cell_type": "code",
   "execution_count": null,
   "id": "c1eca274",
   "metadata": {},
   "outputs": [],
   "source": [
    "undernourished"
   ]
  },
  {
   "cell_type": "code",
   "execution_count": null,
   "id": "b7dd8ebb",
   "metadata": {},
   "outputs": [],
   "source": [
    "Population=pd.read_excel('../Data/Food/Food  Waste Data Set - Copy.xlsx',sheet_name=3)"
   ]
  },
  {
   "cell_type": "code",
   "execution_count": null,
   "id": "be6751c0",
   "metadata": {},
   "outputs": [],
   "source": [
    "Population"
   ]
  },
  {
   "cell_type": "code",
   "execution_count": null,
   "id": "9f4ec98f",
   "metadata": {},
   "outputs": [],
   "source": [
    "Population=Population.merge(FAO_Codes[['Country Code','ISO3 Code']],how='inner',left_on='Area Code (FAO)',right_on='Country Code').merge(Region[['Code','Region','Income group']],how='inner',left_on='ISO3 Code',right_on='Code')\n",
    "Population"
   ]
  },
  {
   "cell_type": "code",
   "execution_count": null,
   "id": "292cdf1d",
   "metadata": {},
   "outputs": [],
   "source": [
    "Population=Population.loc[Population['Element']=='Total Population - Both sexes']"
   ]
  },
  {
   "cell_type": "code",
   "execution_count": null,
   "id": "fc65bbc9",
   "metadata": {},
   "outputs": [],
   "source": [
    "Population"
   ]
  },
  {
   "cell_type": "code",
   "execution_count": null,
   "id": "25dd56fc",
   "metadata": {},
   "outputs": [],
   "source": [
    "undernourish_pop=undernourished.merge(Population[['Area Code (FAO)','Value','Unit']],how='inner',left_on='Country Code',right_on='Area Code (FAO)')"
   ]
  },
  {
   "cell_type": "code",
   "execution_count": null,
   "id": "e29aaa44",
   "metadata": {},
   "outputs": [],
   "source": [
    "undernourish_pop.dtypes"
   ]
  },
  {
   "cell_type": "code",
   "execution_count": null,
   "id": "b5dd82d5",
   "metadata": {},
   "outputs": [],
   "source": [
    "undernourish_pop.loc[undernourish_pop['Value_x']=='0.0']"
   ]
  },
  {
   "cell_type": "code",
   "execution_count": null,
   "id": "aca549e2",
   "metadata": {},
   "outputs": [],
   "source": [
    "undernourish_pop['Value_x'].value_counts()"
   ]
  },
  {
   "cell_type": "code",
   "execution_count": null,
   "id": "b081e457",
   "metadata": {},
   "outputs": [],
   "source": [
    "for index,rows in undernourish_pop.iterrows():\n",
    "    if rows['Value_x']== '<0.1':\n",
    "        undernourish_pop.loc[index,'Value_x']='0.09'\n"
   ]
  },
  {
   "cell_type": "code",
   "execution_count": null,
   "id": "f788b972",
   "metadata": {},
   "outputs": [],
   "source": [
    "\n",
    "#undernourished_pop['Value_x'].unique()\n",
    "\n",
    "undernourish_pop['Value_x']=undernourish_pop['Value_x'].astype(float)\n",
    "undernourish_pop['Value_y']=undernourish_pop['Value_y'].astype(float)"
   ]
  },
  {
   "cell_type": "code",
   "execution_count": null,
   "id": "41105ae6",
   "metadata": {},
   "outputs": [],
   "source": [
    "undernourish_pop=undernourish_pop[['Area Code','Area','Unit_x','Value_x','Value_y','Unit_y','Region','Code','Income group']].fillna(0)"
   ]
  },
  {
   "cell_type": "code",
   "execution_count": null,
   "id": "ee2f2650",
   "metadata": {},
   "outputs": [],
   "source": [
    "undernourish_pop"
   ]
  },
  {
   "cell_type": "code",
   "execution_count": null,
   "id": "22bb2eb1",
   "metadata": {},
   "outputs": [],
   "source": [
    "round(((undernourish_pop['Value_x']*1000000)/(undernourish_pop['Value_y']*1000))*100,2)"
   ]
  },
  {
   "cell_type": "code",
   "execution_count": null,
   "id": "0b312e84",
   "metadata": {},
   "outputs": [],
   "source": [
    "undernourish_pop['Perc_undernourished']=round(((undernourish_pop['Value_x']*1000000)/(undernourish_pop['Value_y']*1000))*100,2)"
   ]
  },
  {
   "cell_type": "code",
   "execution_count": null,
   "id": "6bbdde5c",
   "metadata": {
    "scrolled": true
   },
   "outputs": [],
   "source": [
    "undernourish_pop"
   ]
  },
  {
   "cell_type": "code",
   "execution_count": null,
   "id": "7a766f9b",
   "metadata": {},
   "outputs": [],
   "source": [
    "undernourish_pop.loc[undernourish_pop['Area']=='Zambia']"
   ]
  },
  {
   "cell_type": "code",
   "execution_count": null,
   "id": "3973f502",
   "metadata": {},
   "outputs": [],
   "source": [
    "undernourish_pop.loc[undernourish_pop['Perc_undernourished']==0.0]"
   ]
  },
  {
   "cell_type": "code",
   "execution_count": null,
   "id": "25b87fab",
   "metadata": {},
   "outputs": [],
   "source": [
    "undernourish_pop['Perc_undernourished'].unique()"
   ]
  },
  {
   "cell_type": "markdown",
   "id": "1fd08665",
   "metadata": {},
   "source": [
    "Food_production.loc[Food_production['Code']=='DZA']"
   ]
  },
  {
   "cell_type": "markdown",
   "id": "b8f36627",
   "metadata": {},
   "source": [
    "## Processing files for Temperature Change"
   ]
  },
  {
   "cell_type": "code",
   "execution_count": null,
   "id": "9c7ab75d",
   "metadata": {},
   "outputs": [],
   "source": [
    "temp_change=pd.read_csv('../Data/Food/Environment_Temperature_change_E_All_Data_(Normalized).csv',encoding=\"ISO-8859-1\")"
   ]
  },
  {
   "cell_type": "code",
   "execution_count": null,
   "id": "ff75952f",
   "metadata": {
    "scrolled": true
   },
   "outputs": [],
   "source": [
    "temp_change"
   ]
  },
  {
   "cell_type": "code",
   "execution_count": null,
   "id": "81712b8a",
   "metadata": {},
   "outputs": [],
   "source": [
    "temp_change.loc[temp_change['Area Code'].astype(str).str.len() > 3]\n",
    "\n"
   ]
  },
  {
   "cell_type": "code",
   "execution_count": null,
   "id": "716fc2d5",
   "metadata": {},
   "outputs": [],
   "source": [
    "temp_change.drop(temp_change.index[467976:544714], inplace=True)"
   ]
  },
  {
   "cell_type": "code",
   "execution_count": null,
   "id": "b65a8452",
   "metadata": {},
   "outputs": [],
   "source": [
    "temp_change=temp_change.merge(FAO_Codes[['Country Code','ISO3 Code']],how='inner',left_on='Area Code',right_on='Country Code').merge(Region[['Code','Region','Income group']],how='inner',left_on='ISO3 Code',right_on='Code')"
   ]
  },
  {
   "cell_type": "markdown",
   "id": "dec0095e",
   "metadata": {},
   "source": [
    "## Processing files for caluculating Emission share of Food Systems"
   ]
  },
  {
   "cell_type": "code",
   "execution_count": null,
   "id": "f29c0b7d",
   "metadata": {},
   "outputs": [],
   "source": [
    "Emission_share=pd.read_csv('../Data/Food/Environment_Emissions_by_Sector_E_All_Data_(Normalized).csv',encoding=\"ISO-8859-1\")\n"
   ]
  },
  {
   "cell_type": "code",
   "execution_count": null,
   "id": "9a5b3ff9",
   "metadata": {},
   "outputs": [],
   "source": [
    "Emission_share['Item'].unique()"
   ]
  },
  {
   "cell_type": "code",
   "execution_count": null,
   "id": "90d33c04",
   "metadata": {},
   "outputs": [],
   "source": [
    "Emission_share=Emission_share.loc[Emission_share['Item'].isin(['Farm-gate emissions',\n",
    "                                                               'Land Use change',\n",
    "                                                               \"Pre- and post- production\",\n",
    "                                                               'On-farm electricity use',\n",
    "                                                              'Emissions on agricultural land',\n",
    "                                                              \"Energy-food systems\"])]"
   ]
  },
  {
   "cell_type": "code",
   "execution_count": null,
   "id": "9cf1751e",
   "metadata": {},
   "outputs": [],
   "source": [
    "Emission_share.loc[Emission_share['Area Code'].astype(str).str.len() > 3]\n"
   ]
  },
  {
   "cell_type": "code",
   "execution_count": null,
   "id": "a00f48a1",
   "metadata": {},
   "outputs": [],
   "source": [
    "Emission_share=Emission_share.drop(Emission_share.loc[1402508:1683948].index,axis=0)"
   ]
  },
  {
   "cell_type": "code",
   "execution_count": null,
   "id": "2f344cee",
   "metadata": {},
   "outputs": [],
   "source": [
    "Emission_share"
   ]
  },
  {
   "cell_type": "code",
   "execution_count": null,
   "id": "400842a8",
   "metadata": {},
   "outputs": [],
   "source": [
    "Emission_share=Emission_share.loc[Emission_share['Unit']!='kilotonnes']"
   ]
  },
  {
   "cell_type": "code",
   "execution_count": null,
   "id": "b34232c3",
   "metadata": {},
   "outputs": [],
   "source": [
    "Emission_share"
   ]
  },
  {
   "cell_type": "code",
   "execution_count": null,
   "id": "2c83fbf3",
   "metadata": {},
   "outputs": [],
   "source": [
    "Emission_share=Emission_share.merge(FAO_Codes[['Country Code','ISO3 Code']],how='inner',left_on='Area Code',right_on='Country Code').merge(Region[['Code','Region','Income group']],how='inner',left_on='ISO3 Code',right_on='Code')"
   ]
  },
  {
   "cell_type": "code",
   "execution_count": null,
   "id": "9e1bcaf8",
   "metadata": {},
   "outputs": [],
   "source": [
    "Emission_share[(Emission_share['Area']=='Zimbabwe') & (Emission_share['Year']==2019)]"
   ]
  },
  {
   "cell_type": "code",
   "execution_count": null,
   "id": "d0e46051",
   "metadata": {},
   "outputs": [],
   "source": [
    "Emission_share=Emission_share.groupby(['Area Code','Area','Item Code','Item','Year Code','Unit','Code','Region','Income group']).mean(['Value']).reset_index()"
   ]
  },
  {
   "cell_type": "code",
   "execution_count": null,
   "id": "b03245f6",
   "metadata": {},
   "outputs": [],
   "source": [
    "Emission_share"
   ]
  },
  {
   "cell_type": "code",
   "execution_count": null,
   "id": "e51f90a9",
   "metadata": {},
   "outputs": [],
   "source": [
    "Food_system_share=Emission_share.groupby(['Area Code','Area','Year Code','Unit','Code','Region','Income group']).mean(['Value']).reset_index()"
   ]
  },
  {
   "cell_type": "code",
   "execution_count": null,
   "id": "d90c3afa",
   "metadata": {},
   "outputs": [],
   "source": [
    "Food_system_share"
   ]
  },
  {
   "cell_type": "code",
   "execution_count": null,
   "id": "337ff959",
   "metadata": {},
   "outputs": [],
   "source": [
    "Food_system_share['Non-Food Emissions']=100-Food_system_share['Value']"
   ]
  },
  {
   "cell_type": "code",
   "execution_count": null,
   "id": "e2551648",
   "metadata": {},
   "outputs": [],
   "source": [
    "Food_system_share=Food_system_share.rename(columns={'Value':'Food_Emission'})"
   ]
  },
  {
   "cell_type": "code",
   "execution_count": null,
   "id": "9e9ecc40",
   "metadata": {
    "scrolled": true
   },
   "outputs": [],
   "source": [
    "Food_system_share"
   ]
  },
  {
   "cell_type": "markdown",
   "id": "f0065d1f",
   "metadata": {},
   "source": [
    "## Dashboard2 file"
   ]
  },
  {
   "cell_type": "code",
   "execution_count": null,
   "id": "02f47e3b",
   "metadata": {},
   "outputs": [],
   "source": [
    "Food_system_share.to_csv('../Data/Food/Tableau/Food_system_share.csv')\n"
   ]
  },
  {
   "cell_type": "markdown",
   "id": "1e9bdcc8",
   "metadata": {},
   "source": [
    "## Dashboard2 file"
   ]
  },
  {
   "cell_type": "code",
   "execution_count": null,
   "id": "a8035553",
   "metadata": {},
   "outputs": [],
   "source": [
    "Food_prod_Region.to_csv('../Data/Food/Tableau/Food_prod_Region.csv')"
   ]
  },
  {
   "cell_type": "markdown",
   "id": "4c7015e7",
   "metadata": {},
   "source": [
    "## Dashboard2 file"
   ]
  },
  {
   "cell_type": "code",
   "execution_count": null,
   "id": "5625316e",
   "metadata": {},
   "outputs": [],
   "source": [
    "region_catgry_emission.to_csv('../Data/Food/Tableau/region_catgry_emission.csv')"
   ]
  },
  {
   "cell_type": "markdown",
   "id": "17c8a2a6",
   "metadata": {},
   "source": [
    "## Dashboard3 file"
   ]
  },
  {
   "cell_type": "code",
   "execution_count": null,
   "id": "8dbac256",
   "metadata": {},
   "outputs": [],
   "source": [
    "temp_change.to_csv('../Data/Food/Tableau/temp_change.csv')"
   ]
  },
  {
   "cell_type": "markdown",
   "id": "ffc48ec2",
   "metadata": {},
   "source": [
    "## Dashboard3 file"
   ]
  },
  {
   "cell_type": "code",
   "execution_count": null,
   "id": "170e3626",
   "metadata": {},
   "outputs": [],
   "source": [
    "Area_Category_Region.to_csv('../Data/Food/Tableau/Area_Category_Region.csv')"
   ]
  },
  {
   "cell_type": "markdown",
   "id": "8cf98434",
   "metadata": {},
   "source": [
    "## Dashboard3 file"
   ]
  },
  {
   "cell_type": "code",
   "execution_count": null,
   "id": "576edb95",
   "metadata": {},
   "outputs": [],
   "source": [
    "Item_Area_Region.to_csv('../Data/Food/Tableau/Item_Area_Region.csv')"
   ]
  },
  {
   "cell_type": "markdown",
   "id": "802af23f",
   "metadata": {},
   "source": [
    "## Dashboard 4 file"
   ]
  },
  {
   "cell_type": "code",
   "execution_count": null,
   "id": "4fb28514",
   "metadata": {},
   "outputs": [],
   "source": [
    "undernourish_pop.to_csv('../Data/Food/Tableau/undernourished.csv')"
   ]
  },
  {
   "cell_type": "markdown",
   "id": "02e8528e",
   "metadata": {},
   "source": [
    "## Dashboard4 file"
   ]
  },
  {
   "cell_type": "code",
   "execution_count": null,
   "id": "c43c2f91",
   "metadata": {},
   "outputs": [],
   "source": [
    "Waste.to_csv('../Data/Food/Tableau/Waste.csv')\n",
    "Waste_Category.to_csv('../Data/Food/Tableau/Waste_Category.csv')\n"
   ]
  },
  {
   "cell_type": "markdown",
   "id": "6d572d9d",
   "metadata": {},
   "source": [
    "## Dashboard4 file"
   ]
  },
  {
   "cell_type": "code",
   "execution_count": null,
   "id": "dba420b0",
   "metadata": {},
   "outputs": [],
   "source": [
    "Solid_waste_Income_group.to_csv('../Data/Food/Tableau/Solid_waste_Income_group.csv')"
   ]
  },
  {
   "cell_type": "markdown",
   "id": "5154a17d",
   "metadata": {},
   "source": [
    "## Dashboard1 file"
   ]
  },
  {
   "cell_type": "code",
   "execution_count": null,
   "id": "32163a6d",
   "metadata": {},
   "outputs": [],
   "source": [
    "Food_Emission_Region.to_csv('../Data/Food/Tableau/Food_Emission_Region.csv')"
   ]
  },
  {
   "cell_type": "code",
   "execution_count": null,
   "id": "b1768b3a",
   "metadata": {},
   "outputs": [],
   "source": [
    "Solid_waste_Co2.to_csv('../Data/Food/Tableau/Solid_waste_Co2.csv')"
   ]
  },
  {
   "cell_type": "markdown",
   "id": "d02de17d",
   "metadata": {},
   "source": [
    "## Identify countries not mapped to Regions"
   ]
  },
  {
   "cell_type": "code",
   "execution_count": null,
   "id": "1f620e57",
   "metadata": {},
   "outputs": [],
   "source": [
    "NULL_regions=Solid_waste_Co2.loc[Solid_waste_Co2['ISO3 Code'].isna()]"
   ]
  },
  {
   "cell_type": "code",
   "execution_count": null,
   "id": "d9a8fbba",
   "metadata": {},
   "outputs": [],
   "source": [
    "NULL_regions.to_csv('../Data/Food/NULLRegions.csv')"
   ]
  },
  {
   "cell_type": "markdown",
   "id": "7a9d5759",
   "metadata": {},
   "source": [
    "## Codes written prior to finalised version "
   ]
  },
  {
   "cell_type": "markdown",
   "id": "68631e88",
   "metadata": {},
   "source": [
    "Agri_share.to_csv('../Data/Food/Tableau/Agri_share.csv')"
   ]
  },
  {
   "cell_type": "markdown",
   "id": "07407649",
   "metadata": {},
   "source": [
    "Agri_share"
   ]
  },
  {
   "cell_type": "markdown",
   "id": "89004f75",
   "metadata": {},
   "source": [
    "Agri_share=Agri_share.melt(id_vars=[\"Area Code\",\"Area\",\"Year Code\",\"Unit\",\"Code\",\"Region\",\"Income group\",\"Item Code\",\"Element Code\",\"Year\"], \n",
    "        var_name=\"Emission Category\", \n",
    "        value_name=\"Value\")"
   ]
  },
  {
   "cell_type": "markdown",
   "id": "6d75f5c0",
   "metadata": {},
   "source": [
    "Agri_share[(Agri_share['Area']=='Zimbabwe') & (Agri_share['Year']==2019)]"
   ]
  },
  {
   "cell_type": "markdown",
   "id": "71d1b189",
   "metadata": {},
   "source": [
    "Agri_share=Agri_share.loc[Agri_share['Emission Category']!='Country Code']"
   ]
  },
  {
   "cell_type": "markdown",
   "id": "0da2b6ee",
   "metadata": {},
   "source": [
    "Agri_share"
   ]
  },
  {
   "cell_type": "markdown",
   "id": "d5910c65",
   "metadata": {},
   "source": [
    "\n",
    "Agri_share['Value']=Agri_share['Value'].apply(lambda x: str(round(x,2)) + '%')\n"
   ]
  },
  {
   "cell_type": "markdown",
   "id": "4263a6bb",
   "metadata": {},
   "source": [
    "Agri_share"
   ]
  },
  {
   "cell_type": "markdown",
   "id": "edf12af3",
   "metadata": {},
   "source": [
    "Agri_share.groupby('Region')['Value'].mean().reset_index()"
   ]
  },
  {
   "cell_type": "markdown",
   "id": "d14ff887",
   "metadata": {},
   "source": [
    "Agri_share_region=Agri_share.groupby('Region')['Value'].sum().reset_index()\n",
    "Agri_share_region['Percentage']=round(Agri_share_region['Value'] / \n",
    "                  Agri_share_region['Value'].sum(),2)*100\n",
    "Agri_share_region"
   ]
  },
  {
   "cell_type": "markdown",
   "id": "975b4295",
   "metadata": {},
   "source": [
    "Agri_share_region.to_csv('../Data/Food/Tableau/Agri_share_region.csv')"
   ]
  },
  {
   "cell_type": "markdown",
   "id": "f8a117b4",
   "metadata": {},
   "source": [
    "Agri_share.dtypes\n"
   ]
  },
  {
   "cell_type": "markdown",
   "id": "c57bb358",
   "metadata": {},
   "source": [
    "\n",
    "Food_share=pd.read_csv('../Data/Food/Environment_Emissions_by_Sector_E_All_Data_(Normalized).csv',encoding=\"ISO-8859-1\")\n",
    "Food_share=Food_share.loc[Food_share['Unit']=='kilotonnes']"
   ]
  },
  {
   "cell_type": "markdown",
   "id": "061f7c16",
   "metadata": {},
   "source": [
    "Food_share.loc[Food_share['Area Code'].astype(str).str.len() > 3]\n"
   ]
  },
  {
   "cell_type": "markdown",
   "id": "13a9e1e5",
   "metadata": {},
   "source": [
    "Food_share.loc[Food_share['Value'] < 0]"
   ]
  },
  {
   "cell_type": "markdown",
   "id": "aa33d3a4",
   "metadata": {},
   "source": [
    "Food_share=Food_share.drop(Food_share.loc[1402508:1683798].index,axis=0)"
   ]
  },
  {
   "cell_type": "markdown",
   "id": "709be178",
   "metadata": {},
   "source": [
    "Food_share.index"
   ]
  },
  {
   "cell_type": "markdown",
   "id": "27572de9",
   "metadata": {},
   "source": [
    "Food_share"
   ]
  },
  {
   "cell_type": "markdown",
   "id": "5a6a59cc",
   "metadata": {},
   "source": [
    "Food_share=Food_share.merge(FAO_Codes[['Country Code','ISO3 Code']],how='inner',left_on='Area Code',right_on='Country Code').merge(Region[['Code','Region','Income group']],how='inner',left_on='ISO3 Code',right_on='Code')"
   ]
  },
  {
   "cell_type": "markdown",
   "id": "b0fb7aaf",
   "metadata": {},
   "source": [
    "afghan=Food_share.loc[(Food_share['Year']==2019)&(Food_share['Area']=='Afghanistan')]"
   ]
  },
  {
   "cell_type": "markdown",
   "id": "844ef892",
   "metadata": {},
   "source": [
    "afghan.to_csv('../Data/Food/afghan.csv')"
   ]
  },
  {
   "cell_type": "markdown",
   "id": "35d8747a",
   "metadata": {},
   "source": [
    "Food_share['Item'].unique()"
   ]
  },
  {
   "cell_type": "markdown",
   "id": "9aa54b41",
   "metadata": {},
   "source": [
    "Land_Use_Share=Food_share.loc[Food_share['Item']=='Land Use change']"
   ]
  },
  {
   "cell_type": "markdown",
   "id": "64c7208e",
   "metadata": {},
   "source": [
    "Land_Use_Share"
   ]
  },
  {
   "cell_type": "markdown",
   "id": "16c7a04b",
   "metadata": {},
   "source": [
    "Land_Use_Share.loc[(Land_Use_Share['Year']==2019)&(Land_Use_Share['Area']=='Zimbabwe')]"
   ]
  },
  {
   "cell_type": "markdown",
   "id": "7a2c4cd0",
   "metadata": {},
   "source": [
    "Land_Use_Share=Land_Use_Share.groupby(['Area Code','Area','Item Code','Item','Year','Code','Unit','Region','Income group'])['Value'].sum('Value').reset_index()"
   ]
  },
  {
   "cell_type": "markdown",
   "id": "8c48c335",
   "metadata": {},
   "source": [
    "Land_Use_Share=Land_Use_Share.rename(columns={'Value':'Land_use_share'})"
   ]
  },
  {
   "cell_type": "markdown",
   "id": "d9498aed",
   "metadata": {},
   "source": [
    "Land_Use_Share"
   ]
  },
  {
   "cell_type": "markdown",
   "id": "17c8a736",
   "metadata": {},
   "source": [
    "Land_Use_Share.groupby('Region')['Land_use_share'].mean('Land_use_share')"
   ]
  },
  {
   "cell_type": "markdown",
   "id": "68f0b5d4",
   "metadata": {},
   "source": [
    "Agri_Prod_share=Food_share.loc[Food_share['Item'].isin(['Farm-gate emissions','Fertilizers Manufacturing','Emissions on agricultural land'])]"
   ]
  },
  {
   "cell_type": "markdown",
   "id": "f4aa658f",
   "metadata": {},
   "source": [
    "Agri_Prod_share"
   ]
  },
  {
   "cell_type": "markdown",
   "id": "7071c01b",
   "metadata": {},
   "source": [
    "Agri_Prod_share=Agri_Prod_share.groupby(['Area Code','Area','Item Code','Item','Year','Unit','Code','Region','Income group'])['Value'].sum('Value').reset_index()"
   ]
  },
  {
   "cell_type": "markdown",
   "id": "9246abc6",
   "metadata": {},
   "source": [
    "Agri_Prod_share"
   ]
  },
  {
   "cell_type": "markdown",
   "id": "05c4935b",
   "metadata": {},
   "source": [
    "Agri_Prod_share.loc[(Agri_Prod_share['Year']==2019)&(Agri_Prod_share['Area']=='Zimbabwe')]"
   ]
  },
  {
   "cell_type": "markdown",
   "id": "ee828b7e",
   "metadata": {},
   "source": [
    "Agri_total=Agri_Prod_share.groupby(['Area Code','Area','Year','Unit','Code','Region','Income group'])['Value'].mean('Value').reset_index()"
   ]
  },
  {
   "cell_type": "markdown",
   "id": "96d1bcc6",
   "metadata": {},
   "source": [
    "Agri_total"
   ]
  },
  {
   "cell_type": "markdown",
   "id": "075c6a0f",
   "metadata": {},
   "source": [
    "Agri_total.groupby('Region')['Agri_share'].mean()"
   ]
  },
  {
   "cell_type": "markdown",
   "id": "ed1f4665",
   "metadata": {},
   "source": [
    "Agri_total=Agri_total.rename(columns={'Value':'Agri_share'})"
   ]
  },
  {
   "cell_type": "markdown",
   "id": "491726e2",
   "metadata": {},
   "source": [
    "Food_Supply=Food_share.loc[Food_share['Item'].isin(['Food Processing','Food Transport','Food Retail','Food Packaging'])]"
   ]
  },
  {
   "cell_type": "markdown",
   "id": "44b41c7e",
   "metadata": {},
   "source": [
    "Food_Supply=Food_Supply.groupby(['Area Code','Area','Item Code','Item','Year','Unit','Code','Region','Income group'])['Value'].sum('Value').reset_index()"
   ]
  },
  {
   "cell_type": "markdown",
   "id": "565159fd",
   "metadata": {},
   "source": [
    "Supply_share=Food_Supply.groupby(['Area Code','Area','Year','Unit','Code','Region','Income group'])['Value'].mean('Value').reset_index()"
   ]
  },
  {
   "cell_type": "markdown",
   "id": "d5c015e4",
   "metadata": {},
   "source": [
    "Supply_share"
   ]
  },
  {
   "cell_type": "markdown",
   "id": "e8e00bef",
   "metadata": {},
   "source": [
    "Supply_share=Supply_share.rename(columns={'Value':'Supply_share'})"
   ]
  },
  {
   "cell_type": "markdown",
   "id": "d8b0512d",
   "metadata": {},
   "source": [
    "Post_retail=Food_share.loc[Food_share['Item'].isin(['Food Waste Disposal','Food Household Consumption'])]\n"
   ]
  },
  {
   "cell_type": "markdown",
   "id": "3a6406b8",
   "metadata": {},
   "source": [
    "Post_Retail=Post_retail.groupby(['Area Code','Area','Item Code','Item','Year','Unit','Code','Region','Income group'])['Value'].sum('Value').reset_index()"
   ]
  },
  {
   "cell_type": "markdown",
   "id": "4381539b",
   "metadata": {},
   "source": [
    "Post_prod=Post_Retail.groupby(['Area Code','Area','Year','Unit','Code','Region','Income group'])['Value'].mean('Value').reset_index()"
   ]
  },
  {
   "cell_type": "markdown",
   "id": "ba16ca34",
   "metadata": {},
   "source": [
    "Post_prod"
   ]
  },
  {
   "cell_type": "markdown",
   "id": "b34c9239",
   "metadata": {},
   "source": [
    "Post_prod=Post_prod.rename(columns={'Value':'Post_prod'})"
   ]
  },
  {
   "cell_type": "markdown",
   "id": "322b1a37",
   "metadata": {},
   "source": [
    "Post_prod"
   ]
  },
  {
   "cell_type": "markdown",
   "id": "9bb453a7",
   "metadata": {},
   "source": [
    "Land_Use_Share[['Area Code','Land_use_share']]\n",
    "Agri_total[['Area Code','Agri_share']]\n",
    "Supply_share[['Area Code','Supply_share']]\n",
    "Post_prod[['Area Code','Post_prod']]"
   ]
  },
  {
   "cell_type": "markdown",
   "id": "dd605535",
   "metadata": {},
   "source": [
    "Land_Use_Share.to_csv('../Data/Food/Tableau/Land_Use_Share.csv')\n",
    "Agri_total.to_csv('../Data/Food/Tableau/Agri_total.csv')\n",
    "Supply_share.to_csv('../Data/Food/Tableau/Supply_share.csv')\n",
    "Post_prod.to_csv('../Data/Food/Tableau/Post_prod.csv')"
   ]
  },
  {
   "cell_type": "markdown",
   "id": "7cd007e3",
   "metadata": {},
   "source": [
    "Land_2019=Land_Use_Share.loc[Land_Use_Share['Year']==2019]"
   ]
  },
  {
   "cell_type": "markdown",
   "id": "41e193ca",
   "metadata": {},
   "source": [
    "Land_2019.groupby('Region').sum()"
   ]
  },
  {
   "cell_type": "markdown",
   "id": "307f6fd4",
   "metadata": {},
   "source": [
    "\n",
    "Agri_2019=Agri_total.loc[Agri_total['Year']==2019]\n",
    "Supply_2019=Supply_share.loc[Supply_share['Year']==2019]\n",
    "Post_2019=Post_prod.loc[Post_prod['Year']==2019]\n"
   ]
  },
  {
   "cell_type": "markdown",
   "id": "63d28036",
   "metadata": {},
   "source": [
    "Supply_2019.loc[Supply_2019['Code']=='CHN']"
   ]
  },
  {
   "cell_type": "markdown",
   "id": "313de42d",
   "metadata": {},
   "source": [
    "Food_System_Emission=Land_2019.merge(Agri_2019[['Area Code','Agri_share']],how='inner',on='Area Code').merge(Supply_2019[['Area Code','Supply_share']],how='inner',on='Area Code').merge(Post_2019[['Area Code','Post_prod']],how='inner',on='Area Code')"
   ]
  },
  {
   "cell_type": "markdown",
   "id": "23102e29",
   "metadata": {},
   "source": [
    "Food_System_Emission"
   ]
  },
  {
   "cell_type": "markdown",
   "id": "503f6c4d",
   "metadata": {},
   "source": [
    "Food_System_Emission=Food_System_Emission.melt(id_vars=[\"Area Code\",\"Area\",\"Year\",\"Unit\",\"Code\",\"Item Code\",\"Item\",\"Region\",\"Income group\"], \n",
    "        var_name=\"Emission Category\", \n",
    "        value_name=\"Value\")"
   ]
  },
  {
   "cell_type": "markdown",
   "id": "cfe20628",
   "metadata": {},
   "source": [
    "Food_System_Emission.to_csv('../Data/Food/Tableau/Food_System_Emission.csv')"
   ]
  },
  {
   "cell_type": "markdown",
   "id": "09dd6691",
   "metadata": {},
   "source": [
    "Land_Forest=pd.read_csv('../Data/Food/Emissions_Land_Use_Forests_E_All_Data_NOFLAG.csv',encoding=\"ISO-8859-1\")\n",
    "Land_Fires=pd.read_csv('../Data/Food/Emissions_Land_Use_Fires_E_All_Data_NOFLAG.csv',encoding=\"ISO-8859-1\")\n",
    "Land_Drained_organic_Soils=pd.read_csv('../Data/Food/Emissions_Drained_Organic_Soils_E_All_Data_NOFLAG.csv',encoding=\"ISO-8859-1\")\n"
   ]
  },
  {
   "cell_type": "markdown",
   "id": "9abc2f3d",
   "metadata": {},
   "source": [
    "Land_Forest.loc[Land_Forest['Area Code'].astype(str).str.len() > 3]"
   ]
  },
  {
   "cell_type": "markdown",
   "id": "59056f6d",
   "metadata": {},
   "source": [
    "Land_Forest.drop(Land_Forest.index[1383:1587], inplace=True)"
   ]
  },
  {
   "cell_type": "markdown",
   "id": "26e47c5f",
   "metadata": {},
   "source": [
    "Land_Forest"
   ]
  },
  {
   "cell_type": "markdown",
   "id": "4091a2de",
   "metadata": {},
   "source": [
    "Land_Fires.loc[Land_Fires['Area Code'].astype(str).str.len() > 3]"
   ]
  },
  {
   "cell_type": "markdown",
   "id": "a427151f",
   "metadata": {},
   "source": [
    "Land_Fires.drop(Land_Fires.index[10697:12325], inplace=True)"
   ]
  },
  {
   "cell_type": "markdown",
   "id": "28a0371c",
   "metadata": {},
   "source": [
    "Land_Drained_organic_Soils.loc[Land_Drained_organic_Soils['Area Code'].astype(str).str.len() > 3]"
   ]
  },
  {
   "cell_type": "markdown",
   "id": "a6a892d2",
   "metadata": {},
   "source": [
    "Land_Drained_organic_Soils.drop(Land_Drained_organic_Soils.index[1443:1863], inplace=True)"
   ]
  },
  {
   "cell_type": "markdown",
   "id": "8183858a",
   "metadata": {},
   "source": [
    "Land_Drained_organic_Soils"
   ]
  },
  {
   "cell_type": "markdown",
   "id": "0bed67d2",
   "metadata": {},
   "source": [
    "Land_Drained_organic_Soils=Land_Drained_organic_Soils.loc[Land_Drained_organic_Soils['Unit']=='kilotonnes']\n",
    "Land_Fires=Land_Fires.loc[Land_Fires['Unit']=='kilotonnes']\n",
    "Land_Forest=Land_Forest.loc[Land_Forest['Unit']=='kilotonnes']"
   ]
  },
  {
   "cell_type": "markdown",
   "id": "51a7c082",
   "metadata": {},
   "source": [
    "Land_Drained_organic_Soils=Land_Drained_organic_Soils.loc[Land_Drained_organic_Soils['Element Code']!=7216]"
   ]
  },
  {
   "cell_type": "markdown",
   "id": "9cbdc5d1",
   "metadata": {},
   "source": [
    "Land_Drained_organic_Soils=Land_Drained_organic_Soils.groupby(['Area Code','Area','Item','Unit']).sum().reset_index()\n",
    "Land_Drained_organic_Soils"
   ]
  },
  {
   "cell_type": "markdown",
   "id": "e1aeae97",
   "metadata": {},
   "source": [
    "Land_Fires=Land_Fires.groupby(['Area Code','Area','Item','Unit']).sum().reset_index()\n",
    "Land_Fires"
   ]
  },
  {
   "cell_type": "markdown",
   "id": "e67e68c6",
   "metadata": {},
   "source": [
    "Land_Forest"
   ]
  },
  {
   "cell_type": "markdown",
   "id": "607e0378",
   "metadata": {},
   "source": [
    "import requests\n",
    "import json"
   ]
  },
  {
   "cell_type": "markdown",
   "id": "a94471d1",
   "metadata": {},
   "source": [
    "endpoint='https://api.data.apps.fao.org/api/v2/bigquery?sql_url=https://data.apps.fao.org/catalog/dataset/86b7daf0-4fae-450b-b88f-76690e2fdc17/resource/0026de2e-c12c-457c-b4f5-8c4cd2ef7960/download/crop-calendar-parameterized-query.sql'"
   ]
  },
  {
   "cell_type": "markdown",
   "id": "e6b51770",
   "metadata": {},
   "source": [
    "response=requests.get(endpoint)"
   ]
  },
  {
   "cell_type": "markdown",
   "id": "7e974056",
   "metadata": {},
   "source": [
    "response.json()\n"
   ]
  },
  {
   "cell_type": "markdown",
   "id": "6dd8a141",
   "metadata": {},
   "source": [
    "Farm_Item=Farm.groupby('Item')['Y2019'].mean().reset_index()"
   ]
  },
  {
   "cell_type": "markdown",
   "id": "46a1a54e",
   "metadata": {},
   "source": [
    "\n",
    "\n",
    "\n",
    "Land_Fires=Land_Fires.merge(FAO_Codes[['Country Code','ISO3 Code']],how='inner',left_on='Area Code',right_on='Country Code').merge(Region[['Code','Region','Income group']],how='inner',left_on='ISO3 Code',right_on='Code')\n",
    "Land_Forest=Land_Forest.merge(FAO_Codes[['Country Code','ISO3 Code']],how='inner',left_on='Area Code',right_on='Country Code').merge(Region[['Code','Region','Income group']],how='inner',left_on='ISO3 Code',right_on='Code')\n"
   ]
  },
  {
   "cell_type": "markdown",
   "id": "263f9010",
   "metadata": {},
   "source": [
    "Land_Drained_organic_Soils=Land_Drained_organic_Soils.merge(FAO_Codes[['Country Code','ISO3 Code']],how='inner',left_on='Area Code',right_on='Country Code').merge(Region[['Code','Region','Income group']],how='inner',left_on='ISO3 Code',right_on='Code')"
   ]
  },
  {
   "cell_type": "markdown",
   "id": "358c9e7a",
   "metadata": {},
   "source": [
    "Land_Drained_organic_Soils.to_csv('../Data/Food/Tableau/Land_Drained_organic_Soils.csv')\n",
    "\n",
    "Land_Fires.to_csv('../Data/Food/Tableau/Land_Fires.csv')\n",
    "Land_Forest.to_csv('../Data/Food/Tableau/Land_Forest.csv')\n",
    "\n"
   ]
  },
  {
   "cell_type": "markdown",
   "id": "2c99263d",
   "metadata": {},
   "source": [
    "Hunger_index=pd.read_csv('../Data/Food/global-hunger-index-vs-gdp-per-capita.csv')\n",
    "Hunger_2021=Hunger_index.loc[Hunger_index['Year']==2021]\n",
    "Hunger_2021=Hunger_2021.loc[~((Hunger_2021['Code'].isna()) | (Hunger_2021['Code']=='OWID_WRL'))]\n",
    "Hunger_2021=Hunger_2021.merge(Region[['Code','Region','Income group']],how='inner',left_on='Code',right_on='Code')\n",
    "Hunger_2021"
   ]
  },
  {
   "cell_type": "markdown",
   "id": "5e479b30",
   "metadata": {},
   "source": [
    "Hunger_2021['Global Hunger Index (2021)']=Hunger_2021['Global Hunger Index (2021)'].fillna(0)"
   ]
  },
  {
   "cell_type": "markdown",
   "id": "ef953cf0",
   "metadata": {},
   "source": [
    "Hunger_2021['Region'].unique()"
   ]
  },
  {
   "cell_type": "markdown",
   "id": "ada05d0d",
   "metadata": {},
   "source": [
    "Hunger_2021.to_csv('../Data/Food/Tableau/Hunger_2021.csv')"
   ]
  },
  {
   "cell_type": "markdown",
   "id": "8fff5e84",
   "metadata": {},
   "source": [
    "Agri_employment=pd.read_excel('../Data/Food/Food  Waste Data Set - Copy.xlsx',sheet_name=4)\n",
    "Agri_Expenditure=pd.read_excel('../Data/Food/Food  Waste Data Set - Copy.xlsx',sheet_name=5)"
   ]
  },
  {
   "cell_type": "markdown",
   "id": "1d3705f1",
   "metadata": {},
   "source": [
    "Agri_Expenditure.dtypes"
   ]
  },
  {
   "cell_type": "markdown",
   "id": "30493b6f",
   "metadata": {},
   "source": [
    "Agri_Expenditure=Agri_Expenditure.merge(FAO_Codes[['Country Code','ISO3 Code']],how='inner',left_on='Area Code (FAO)',right_on='Country Code').merge(Region[['Code','Region','Income group']],how='inner',left_on='ISO3 Code',right_on='Code')\n",
    "Agri_emplymnt=Agri_employment.merge(FAO_Codes[['Country Code','ISO3 Code']],how='inner',left_on='Area Code',right_on='Country Code').merge(Region[['Code','Region','Income group']],how='inner',left_on='ISO3 Code',right_on='Code')\n"
   ]
  },
  {
   "cell_type": "markdown",
   "id": "1fc77aa3",
   "metadata": {},
   "source": [
    "Agri_emplymnt=Agri_emplymnt.loc[Agri_emplymnt['Indicator'].isin(['Employment in agriculture, forestry and fishing by age, total (15+)',\n",
    "'Employment in agriculture, forestry and fishing by age, 15 to 24',\n",
    "'Employment in agriculture, forestry and fishing by age, 25 to 54',\n",
    "'Employment in agriculture, forestry and fishing by age, 55 to 64',\n",
    "'Employment in agriculture, forestry and fishing by age, 65+',\n",
    "'Mean weekly hours actually worked per employed person in agriculture, forestry and fishing',\n",
    "'Mean weekly hours actually worked per employee in agriculture, forestry and fishing',\n",
    "'Share of employment in agriculture, forestry and fishing in total employment',\n",
    "'Share of females in total employment in agriculture, forestry and fishing',\n",
    "'Share of employees in agriculture, forestry and fishing in total employees',\n",
    "'Share of female employees in total employees in agriculture, forestry and fishing',\n",
    "'Agriculture value added per worker (constant 2015 US$)'])]"
   ]
  },
  {
   "cell_type": "markdown",
   "id": "6250e666",
   "metadata": {},
   "source": [
    "Agri_emplymnt.to_csv('../Data/Food/Tableau/Agri_emplymnt.csv')\n",
    "Agri_Expenditure.to_csv('../Data/Food/Tableau/Agri_Expenditure.csv')"
   ]
  },
  {
   "cell_type": "markdown",
   "id": "500421ee",
   "metadata": {},
   "source": [
    "Food_shortage=pd.read_csv('../Data/Food/countries-requiring-external-assistance-for-food.csv',encoding=\"ISO-8859-1\")\n",
    "Food_shortage"
   ]
  },
  {
   "cell_type": "markdown",
   "id": "415a44c6",
   "metadata": {},
   "source": [
    "Food_shortage['Date'].unique()"
   ]
  },
  {
   "cell_type": "markdown",
   "id": "77a4162d",
   "metadata": {},
   "source": [
    "Food_shortage.loc[Food_shortage['Date']=='2009-04']"
   ]
  },
  {
   "cell_type": "markdown",
   "id": "c4a82551",
   "metadata": {},
   "source": [
    "\n",
    "Prod_year=pd.read_csv('../Data/Food/Production_Crops_Livestock_E_All_Data_(Normalized).csv',encoding=\"ISO-8859-1\")\n",
    "Prod_year"
   ]
  },
  {
   "cell_type": "markdown",
   "id": "0b9cdd5c",
   "metadata": {},
   "source": [
    "Prod_year=Prod_year.loc[Prod_year['Element']=='Production']"
   ]
  },
  {
   "cell_type": "markdown",
   "id": "c489ad39",
   "metadata": {},
   "source": [
    "Prod_year=Prod_year.reset_index(drop=True)"
   ]
  },
  {
   "cell_type": "markdown",
   "id": "2470557b",
   "metadata": {},
   "source": [
    "Prod_year"
   ]
  },
  {
   "cell_type": "markdown",
   "id": "bcfefeca",
   "metadata": {},
   "source": [
    "Prod_year.loc[Prod_year['Area Code'].astype(str).str.len() > 3]\n"
   ]
  },
  {
   "cell_type": "markdown",
   "id": "56a7fe98",
   "metadata": {},
   "source": [
    "Prod_year.drop(Prod_year.index[1098190:1481937],inplace=True)"
   ]
  },
  {
   "cell_type": "markdown",
   "id": "1e638755",
   "metadata": {},
   "source": [
    "Prod_year=Prod_year.merge(FAO_Codes[['Country Code','ISO3 Code']],how='inner',left_on='Area Code',right_on='Country Code').merge(Region[['Code','Region','Income group']],how='inner',left_on='ISO3 Code',right_on='Code')"
   ]
  },
  {
   "cell_type": "markdown",
   "id": "96224c63",
   "metadata": {},
   "source": [
    "Prod_year.to_csv('../Data/Food/Tableau/Prod_year.csv')"
   ]
  },
  {
   "cell_type": "markdown",
   "id": "4ee85a7b",
   "metadata": {},
   "source": [
    "Prod_year.loc[Prod_year['Area']=='Afghanistan']"
   ]
  },
  {
   "cell_type": "markdown",
   "id": "19e7bc15",
   "metadata": {
    "scrolled": false
   },
   "source": [
    "Prod_year.groupby(['Area Code','Area','Element Code','Element','Year Code','Year','Unit']).sum('Value').reset_index()"
   ]
  },
  {
   "cell_type": "markdown",
   "id": "a0e6d4fb",
   "metadata": {},
   "source": [
    "house_waste.to_csv('../Data/Food/Tableau/House_waste.csv')\n",
    "Food_Service_waste.to_csv('../Data/Food/Tableau/Food_Service_waste.csv')\n",
    "Retail_waste.to_csv('../Data/Food/Tableau/Retail_waste.csv')"
   ]
  },
  {
   "cell_type": "markdown",
   "id": "088a8ad4",
   "metadata": {},
   "source": [
    "Food_production.to_csv('../Data/Food/Tableau/Food_production.csv')"
   ]
  },
  {
   "cell_type": "markdown",
   "id": "d4c87cfd",
   "metadata": {},
   "source": [
    "Food_production.to_csv('../Data/Food/Tableau/Food_production.csv')\n",
    "\n"
   ]
  },
  {
   "cell_type": "markdown",
   "id": "d872023e",
   "metadata": {},
   "source": [
    "Farm_emission_trend=Farm_gate_Emmissions.groupby([\"Area Code\",\"Area\",\"Unit\",\"Code\",\"Region\",\"Income group\"]).mean().reset_index()"
   ]
  },
  {
   "cell_type": "markdown",
   "id": "38f0d3e0",
   "metadata": {},
   "source": [
    "Farm_emission_trend"
   ]
  },
  {
   "cell_type": "markdown",
   "id": "5b285a91",
   "metadata": {},
   "source": [
    "Farm_emission_trend=Farm_emission_trend.melt(id_vars=[\"Area Code\",\"Area\",\"Unit\",\"Code\",\"Region\",\"Income group\"], \n",
    "        var_name=\"Year\", \n",
    "        value_name=\"Value\")"
   ]
  },
  {
   "cell_type": "markdown",
   "id": "c9cebdee",
   "metadata": {},
   "source": [
    "Farm_emission_trend.to_csv('../Data/Food/Tableau/Farm_emission_trend.csv')"
   ]
  },
  {
   "cell_type": "code",
   "execution_count": null,
   "id": "c3a4212c",
   "metadata": {},
   "outputs": [],
   "source": []
  }
 ],
 "metadata": {
  "kernelspec": {
   "display_name": "Python 3 (ipykernel)",
   "language": "python",
   "name": "python3"
  },
  "language_info": {
   "codemirror_mode": {
    "name": "ipython",
    "version": 3
   },
   "file_extension": ".py",
   "mimetype": "text/x-python",
   "name": "python",
   "nbconvert_exporter": "python",
   "pygments_lexer": "ipython3",
   "version": "3.9.7"
  }
 },
 "nbformat": 4,
 "nbformat_minor": 5
}
